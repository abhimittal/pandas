# Question 1

my_list = {'Name':['Abhishek'],'Age':[21],'Email':['abhimittal.0206@gmail.com'],'Phone_no.':[7082376660]}
df = pd.DataFrame(my_list)
friend_list = {'Name':['Abhinav'],'Age':[21],'Email:['abhinav@gmial.com'],'Phone_no.':[000000000]}
df2 = pd.DataFrame(friend_list)
print(df.append(df2))



# Question 2

Data = pd.read_csv('C:\\Users\\Abhi\\Documents\\pandas.txt')
print(Data)
 a)  print(data.head(5))                                        #Display first 5 rows
 b)  print(data.head(10))                                       #Display first 10 rows
 c)  Data['MinTemp'].sum()                                      # gives sum of column
     Data['MinTemp'].mean()                                     # gives mean
     Data['MinTemp'].max()                                      # give maximum value in column
     Data['MinTemp'].min()                                      # give minimum value in column
 d)  print(Data.tail(5))
 e)  Second_column = Data.MinTemp()
     print(second_column())
     print(Second_column.sum())

